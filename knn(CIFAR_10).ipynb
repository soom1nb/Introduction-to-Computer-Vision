{
  "nbformat": 4,
  "nbformat_minor": 0,
  "metadata": {
    "colab": {
      "provenance": [],
      "gpuType": "T4",
      "authorship_tag": "ABX9TyN1QMwtOJuGmMS6JLlRxaPO",
      "include_colab_link": true
    },
    "kernelspec": {
      "name": "python3",
      "display_name": "Python 3"
    },
    "language_info": {
      "name": "python"
    },
    "accelerator": "GPU"
  },
  "cells": [
    {
      "cell_type": "markdown",
      "metadata": {
        "id": "view-in-github",
        "colab_type": "text"
      },
      "source": [
        "<a href=\"https://colab.research.google.com/github/soom1nb/Introduction-to-Computer-Vision/blob/main/knn(CIFAR_10).ipynb\" target=\"_parent\"><img src=\"https://colab.research.google.com/assets/colab-badge.svg\" alt=\"Open In Colab\"/></a>"
      ]
    },
    {
      "cell_type": "markdown",
      "source": [
        "# **[Introduction to Computer Vision]**\n",
        "## K-Nearest Neighbors on CIFAR-10  \n",
        "### Student: Baik Soo Min  \n",
        "### Student ID: 2022112338  \n",
        "### Major: Data Science  "
      ],
      "metadata": {
        "id": "RgbHTxWctxi2"
      }
    },
    {
      "cell_type": "markdown",
      "source": [
        "# **0. Import**"
      ],
      "metadata": {
        "id": "6WFThxo1m96x"
      }
    },
    {
      "cell_type": "code",
      "source": [
        "import numpy as np\n",
        "from tqdm import tqdm\n",
        "from sklearn.metrics import accuracy_score, precision_score, recall_score, f1_score\n",
        "from sklearn.model_selection import KFold\n",
        "from torchvision import datasets, transforms\n",
        "import matplotlib.pyplot as plt"
      ],
      "metadata": {
        "id": "A707b_lrnDxl"
      },
      "execution_count": 6,
      "outputs": []
    },
    {
      "cell_type": "markdown",
      "source": [
        "# **1. CIFAR-10 download & preprocessing**\n",
        "- Images are flattened from (32,32,3) -> (3072,)\n",
        "- Normalize pixel values from 0-255 to 0-1\n",
        "- Xtr, Ytr : train features and labels\n",
        "- Xte, Yte : test features and labels"
      ],
      "metadata": {
        "id": "oYGHB_CsnHJe"
      }
    },
    {
      "cell_type": "code",
      "source": [
        "transform = transforms.Compose([transforms.ToTensor()])\n",
        "\n",
        "train_dataset = datasets.CIFAR10(root='./data', train=True, download=True, transform=transform)\n",
        "test_dataset = datasets.CIFAR10(root='./data', train=False, download=True, transform=transform)\n",
        "\n",
        "Xtr = train_dataset.data.reshape(50000, -1).astype(np.float32) / 255.0\n",
        "Ytr = np.array(train_dataset.targets)\n",
        "Xte = test_dataset.data.reshape(10000, -1).astype(np.float32) / 255.0\n",
        "Yte = np.array(test_dataset.targets)"
      ],
      "metadata": {
        "id": "5pQkTny8npgq"
      },
      "execution_count": 7,
      "outputs": []
    },
    {
      "cell_type": "markdown",
      "source": [
        "# **2. Vectorized Nearest Neighbor Classifier**\n",
        "- Vectorization for computing more fast\n",
        "- train method:\n",
        "  - Store training data and labels\n",
        "- predict method:\n",
        "  - Compute L2 distance\n"
      ],
      "metadata": {
        "id": "cEM8mEyTnqOs"
      }
    },
    {
      "cell_type": "code",
      "source": [
        "class NearestNeighborVectorized:\n",
        "    def __init__(self):\n",
        "        pass\n",
        "\n",
        "    def train(self, X, y):\n",
        "        self.Xtr = X\n",
        "        self.ytr = y\n",
        "\n",
        "    def predict(self, X, k=1):\n",
        "        # Vectorized L2 distance\n",
        "        dists = np.sqrt(\n",
        "            np.sum(X**2, axis=1, keepdims=True) +\n",
        "            np.sum(self.Xtr**2, axis=1) -\n",
        "            2 * X.dot(self.Xtr.T)\n",
        "        )\n",
        "        nearest_idx = np.argsort(dists, axis=1)[:, :k]\n",
        "        Ypred = np.array([np.bincount(self.ytr[idx]).argmax() for idx in nearest_idx])\n",
        "        return Ypred"
      ],
      "metadata": {
        "id": "ih4XEIKFoM82"
      },
      "execution_count": 8,
      "outputs": []
    },
    {
      "cell_type": "markdown",
      "source": [
        "# **3. Train/Test Split only**\n",
        "- Predict labels on the test data using a chosen k = 1\n",
        "- Metrics : accuracy, precision, recall, F1-score"
      ],
      "metadata": {
        "id": "efYnM1rxoMsn"
      }
    },
    {
      "cell_type": "code",
      "source": [
        "nn = NearestNeighborVectorized()\n",
        "nn.train(Xtr, Ytr)\n",
        "Yte_pred = nn.predict(Xte, k=1)\n",
        "\n",
        "print(\"=== Train/Test metrics ===\")\n",
        "print(\"Accuracy:\", accuracy_score(Yte, Yte_pred))\n",
        "print(\"Precision:\", precision_score(Yte, Yte_pred, average='macro'))\n",
        "print(\"Recall:\", recall_score(Yte, Yte_pred, average='macro'))\n",
        "print(\"F1-score:\", f1_score(Yte, Yte_pred, average='macro'))"
      ],
      "metadata": {
        "colab": {
          "base_uri": "https://localhost:8080/"
        },
        "id": "Z86jK6WJoNkz",
        "outputId": "021ffe85-354b-4a2b-848c-565469ca6ebb"
      },
      "execution_count": 9,
      "outputs": [
        {
          "output_type": "stream",
          "name": "stdout",
          "text": [
            "=== Train/Test metrics ===\n",
            "Accuracy: 0.3539\n",
            "Precision: 0.41122464684632654\n",
            "Recall: 0.3539\n",
            "F1-score: 0.3494752122873106\n"
          ]
        }
      ]
    },
    {
      "cell_type": "markdown",
      "source": [
        "# **4. Validation split for hyperparameter tuning**\n",
        "- Split the original train set into\n",
        "  - Train subset : 49,000 samples\n",
        "  - Validation set : 1,000 samples\n",
        "- Use Validation set to select the best value of k based on accuracy\n",
        "\n",
        "[Code result]\n",
        "- best value of k : 5"
      ],
      "metadata": {
        "id": "HSFUZZL4oXGM"
      }
    },
    {
      "cell_type": "code",
      "source": [
        "Xval = Xtr[:1000]\n",
        "Yval = Ytr[:1000]\n",
        "Xtr_sub = Xtr[1000:]\n",
        "Ytr_sub = Ytr[1000:]\n",
        "\n",
        "validation_accuracies = []\n",
        "k_values = [1, 3, 5, 10, 20, 50, 100]\n",
        "\n",
        "for k in k_values:\n",
        "    nn = NearestNeighborVectorized()\n",
        "    nn.train(Xtr_sub, Ytr_sub)\n",
        "\n",
        "    # Vectorized prediction for validation set\n",
        "    dists_val = np.sqrt(\n",
        "        np.sum(Xval**2, axis=1, keepdims=True) +\n",
        "        np.sum(Xtr_sub**2, axis=1) -\n",
        "        2 * Xval.dot(Xtr_sub.T)\n",
        "    )\n",
        "\n",
        "    # tqdm for tracking progress per sample\n",
        "    Yval_pred = []\n",
        "    for row in tqdm(dists_val, desc=f\"Validation prediction (k={k})\", total=dists_val.shape[0]):\n",
        "        nearest_idx = np.argsort(row)[:k]\n",
        "        nearest_labels = Ytr_sub[nearest_idx]\n",
        "        Yval_pred.append(np.bincount(nearest_labels).argmax())\n",
        "    Yval_pred = np.array(Yval_pred)\n",
        "\n",
        "    acc = accuracy_score(Yval, Yval_pred)\n",
        "    validation_accuracies.append((k, acc))\n",
        "    print(f\"Validation accuracy (k={k}): {acc:.4f}\")\n",
        "\n",
        "best_k = max(validation_accuracies, key=lambda x: x[1])[0]\n",
        "print(\"Best k:\", best_k)\n",
        "\n",
        "# Test with best k\n",
        "nn.train(Xtr_sub, Ytr_sub)\n",
        "Yte_pred = nn.predict(Xte, k=best_k)\n",
        "print(\"\\n=== Test metrics with best k ===\")\n",
        "print(\"Accuracy:\", accuracy_score(Yte, Yte_pred))\n",
        "print(\"Precision:\", precision_score(Yte, Yte_pred, average='macro'))\n",
        "print(\"Recall:\", recall_score(Yte, Yte_pred, average='macro'))\n",
        "print(\"F1-score:\", f1_score(Yte, Yte_pred, average='macro'))\n"
      ],
      "metadata": {
        "colab": {
          "base_uri": "https://localhost:8080/"
        },
        "id": "BrhsBbQmoncP",
        "outputId": "d0e4af2a-9282-4732-8dcb-36cd2202bab6"
      },
      "execution_count": 10,
      "outputs": [
        {
          "output_type": "stream",
          "name": "stderr",
          "text": [
            "Validation prediction (k=1): 100%|██████████| 1000/1000 [00:01<00:00, 894.18it/s]\n"
          ]
        },
        {
          "output_type": "stream",
          "name": "stdout",
          "text": [
            "Validation accuracy (k=1): 0.3520\n"
          ]
        },
        {
          "output_type": "stream",
          "name": "stderr",
          "text": [
            "Validation prediction (k=3): 100%|██████████| 1000/1000 [00:02<00:00, 492.84it/s]\n"
          ]
        },
        {
          "output_type": "stream",
          "name": "stdout",
          "text": [
            "Validation accuracy (k=3): 0.3390\n"
          ]
        },
        {
          "output_type": "stream",
          "name": "stderr",
          "text": [
            "Validation prediction (k=5): 100%|██████████| 1000/1000 [00:01<00:00, 906.60it/s]\n"
          ]
        },
        {
          "output_type": "stream",
          "name": "stdout",
          "text": [
            "Validation accuracy (k=5): 0.3540\n"
          ]
        },
        {
          "output_type": "stream",
          "name": "stderr",
          "text": [
            "Validation prediction (k=10): 100%|██████████| 1000/1000 [00:01<00:00, 912.09it/s]\n"
          ]
        },
        {
          "output_type": "stream",
          "name": "stdout",
          "text": [
            "Validation accuracy (k=10): 0.3530\n"
          ]
        },
        {
          "output_type": "stream",
          "name": "stderr",
          "text": [
            "Validation prediction (k=20): 100%|██████████| 1000/1000 [00:01<00:00, 775.17it/s]\n"
          ]
        },
        {
          "output_type": "stream",
          "name": "stdout",
          "text": [
            "Validation accuracy (k=20): 0.3340\n"
          ]
        },
        {
          "output_type": "stream",
          "name": "stderr",
          "text": [
            "Validation prediction (k=50): 100%|██████████| 1000/1000 [00:01<00:00, 909.89it/s]\n"
          ]
        },
        {
          "output_type": "stream",
          "name": "stdout",
          "text": [
            "Validation accuracy (k=50): 0.3120\n"
          ]
        },
        {
          "output_type": "stream",
          "name": "stderr",
          "text": [
            "Validation prediction (k=100): 100%|██████████| 1000/1000 [00:01<00:00, 868.25it/s]\n"
          ]
        },
        {
          "output_type": "stream",
          "name": "stdout",
          "text": [
            "Validation accuracy (k=100): 0.3020\n",
            "Best k: 5\n",
            "\n",
            "=== Test metrics with best k ===\n",
            "Accuracy: 0.3395\n",
            "Precision: 0.4285360258758761\n",
            "Recall: 0.33949999999999997\n",
            "F1-score: 0.32562881723828874\n"
          ]
        }
      ]
    },
    {
      "cell_type": "markdown",
      "source": [
        "# **5. 5-Fold Cross-Validation**\n",
        "- Split the dataset into 5 folds\n",
        "- k_values = [1, 3, 5, 10, 20, 50, 100]\n"
      ],
      "metadata": {
        "id": "8PwfKoN-on7K"
      }
    },
    {
      "cell_type": "code",
      "source": [
        "kf = KFold(n_splits=5, shuffle=True, random_state=42)\n",
        "cv_results = {k: [] for k in k_values}\n",
        "\n",
        "# 5-Fold\n",
        "for k in k_values:\n",
        "    print(f\"\\nProcessing k={k}\")\n",
        "    for train_idx, val_idx in tqdm(kf.split(Xtr), total=5, desc=f\"k={k} folds\"):\n",
        "        X_train_cv, X_val_cv = Xtr[train_idx], Xtr[val_idx]\n",
        "        Y_train_cv, Y_val_cv = Ytr[train_idx], Ytr[val_idx]\n",
        "\n",
        "        nn = NearestNeighborVectorized()\n",
        "        nn.train(X_train_cv, Y_train_cv)\n",
        "        Y_val_pred = nn.predict(X_val_cv, k=k)\n",
        "\n",
        "        cv_results[k].append(accuracy_score(Y_val_cv, Y_val_pred))\n",
        "\n",
        "print(\"\\n=== k values CV Performance ===\")\n",
        "for k in k_values:\n",
        "    mean_acc = np.mean(cv_results[k])\n",
        "    std_acc = np.std(cv_results[k])\n",
        "    print(f\"k={k}: Mean CV Accuracy = {mean_acc:.4f}, Std = {std_acc:.4f}\")"
      ],
      "metadata": {
        "colab": {
          "base_uri": "https://localhost:8080/"
        },
        "id": "U8GF_eVCosZP",
        "outputId": "6890902f-6cd0-4984-9293-cd0096d5ddf1"
      },
      "execution_count": 12,
      "outputs": [
        {
          "output_type": "stream",
          "name": "stdout",
          "text": [
            "\n",
            "Processing k=1\n"
          ]
        },
        {
          "output_type": "stream",
          "name": "stderr",
          "text": [
            "k=1 folds: 100%|██████████| 5/5 [02:43<00:00, 32.62s/it]\n"
          ]
        },
        {
          "output_type": "stream",
          "name": "stdout",
          "text": [
            "\n",
            "Processing k=3\n"
          ]
        },
        {
          "output_type": "stream",
          "name": "stderr",
          "text": [
            "k=3 folds: 100%|██████████| 5/5 [02:42<00:00, 32.59s/it]\n"
          ]
        },
        {
          "output_type": "stream",
          "name": "stdout",
          "text": [
            "\n",
            "Processing k=5\n"
          ]
        },
        {
          "output_type": "stream",
          "name": "stderr",
          "text": [
            "k=5 folds: 100%|██████████| 5/5 [02:37<00:00, 31.57s/it]\n"
          ]
        },
        {
          "output_type": "stream",
          "name": "stdout",
          "text": [
            "\n",
            "Processing k=10\n"
          ]
        },
        {
          "output_type": "stream",
          "name": "stderr",
          "text": [
            "k=10 folds: 100%|██████████| 5/5 [02:38<00:00, 31.61s/it]\n"
          ]
        },
        {
          "output_type": "stream",
          "name": "stdout",
          "text": [
            "\n",
            "Processing k=20\n"
          ]
        },
        {
          "output_type": "stream",
          "name": "stderr",
          "text": [
            "k=20 folds: 100%|██████████| 5/5 [02:35<00:00, 31.02s/it]\n"
          ]
        },
        {
          "output_type": "stream",
          "name": "stdout",
          "text": [
            "\n",
            "Processing k=50\n"
          ]
        },
        {
          "output_type": "stream",
          "name": "stderr",
          "text": [
            "k=50 folds: 100%|██████████| 5/5 [02:38<00:00, 31.77s/it]\n"
          ]
        },
        {
          "output_type": "stream",
          "name": "stdout",
          "text": [
            "\n",
            "Processing k=100\n"
          ]
        },
        {
          "output_type": "stream",
          "name": "stderr",
          "text": [
            "k=100 folds: 100%|██████████| 5/5 [02:37<00:00, 31.55s/it]"
          ]
        },
        {
          "output_type": "stream",
          "name": "stdout",
          "text": [
            "\n",
            "=== k values CV Performance ===\n",
            "k=1: Mean CV Accuracy = 0.3411, Std = 0.0050\n",
            "k=3: Mean CV Accuracy = 0.3232, Std = 0.0049\n",
            "k=5: Mean CV Accuracy = 0.3320, Std = 0.0049\n",
            "k=10: Mean CV Accuracy = 0.3289, Std = 0.0047\n",
            "k=20: Mean CV Accuracy = 0.3245, Std = 0.0059\n",
            "k=50: Mean CV Accuracy = 0.3085, Std = 0.0042\n",
            "k=100: Mean CV Accuracy = 0.2960, Std = 0.0028\n"
          ]
        },
        {
          "output_type": "stream",
          "name": "stderr",
          "text": [
            "\n"
          ]
        }
      ]
    },
    {
      "cell_type": "markdown",
      "source": [
        "# **6. Plot Cross-Validation performance**\n",
        "- Plot accuracy vs k with error bars"
      ],
      "metadata": {
        "id": "6tUk8Df0otPa"
      }
    },
    {
      "cell_type": "code",
      "source": [
        "plt.figure(figsize=(8,6))\n",
        "\n",
        "for k in k_values:\n",
        "    y = cv_results[k]\n",
        "    x = [k] * len(y)\n",
        "    plt.scatter(x, y, color='blue', alpha=0.6)\n",
        "\n",
        "cv_mean = [np.mean(cv_results[k]) for k in k_values]\n",
        "cv_std = [np.std(cv_results[k]) for k in k_values]\n",
        "plt.errorbar(k_values, cv_mean, yerr=cv_std, fmt='-o', color='black', capsize=5, label='Mean ± Std')\n",
        "\n",
        "plt.xlabel('k (number of neighbors)')\n",
        "plt.ylabel('5-Fold CV Accuracy')\n",
        "plt.title('Vectorized KNN CIFAR-10 5-Fold CV Accuracy vs k')\n",
        "plt.grid(True)\n",
        "plt.legend()\n",
        "plt.show()\n"
      ],
      "metadata": {
        "colab": {
          "base_uri": "https://localhost:8080/",
          "height": 564
        },
        "id": "2phxuydtpVhq",
        "outputId": "2536b965-380d-48cf-bea8-3e73f87f0b89"
      },
      "execution_count": 16,
      "outputs": [
        {
          "output_type": "display_data",
          "data": {
            "text/plain": [
              "<Figure size 800x600 with 1 Axes>"
            ],
            "image/png": "[encoded data removed]"
          },
          "metadata": {}
        }
      ]
    },
    {
      "cell_type": "code",
      "source": [],
      "metadata": {
        "id": "CTihG3hBmuQ6"
      },
      "execution_count": null,
      "outputs": []
    }
  ]
}