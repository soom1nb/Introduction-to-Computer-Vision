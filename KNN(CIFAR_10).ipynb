{
  "nbformat": 4,
  "nbformat_minor": 0,
  "metadata": {
    "colab": {
      "provenance": [],
      "gpuType": "T4",
      "authorship_tag": "ABX9TyOKGCCVbJxS3d/6toJ1o/w3",
      "include_colab_link": true
    },
    "kernelspec": {
      "name": "python3",
      "display_name": "Python 3"
    },
    "language_info": {
      "name": "python"
    },
    "accelerator": "GPU"
  },
  "cells": [
    {
      "cell_type": "markdown",
      "metadata": {
        "id": "view-in-github",
        "colab_type": "text"
      },
      "source": [
        "<a href=\"https://colab.research.google.com/github/soom1nb/Introduction-to-Computer-Vision/blob/main/KNN(CIFAR_10).ipynb\" target=\"_parent\"><img src=\"https://colab.research.google.com/assets/colab-badge.svg\" alt=\"Open In Colab\"/></a>"
      ]
    },
    {
      "cell_type": "markdown",
      "source": [
        "# [Introduction to Computer Vision]\n",
        "## K-Neareast Neighbors(KNN) Classification Assignment\n",
        "**Student:** Baik Soo Min  \n",
        "**Student ID:** 2022112338  \n",
        "**Major:** Data Science"
      ],
      "metadata": {
        "id": "xxfN1Lk2yic6"
      }
    },
    {
      "cell_type": "markdown",
      "source": [
        "# **1. Import & Install**"
      ],
      "metadata": {
        "id": "wrzdXqJ8GzHb"
      }
    },
    {
      "cell_type": "code",
      "source": [
        "!pip install faiss-cpu"
      ],
      "metadata": {
        "colab": {
          "base_uri": "https://localhost:8080/"
        },
        "collapsed": true,
        "id": "xVL6ip7mzDc2",
        "outputId": "a1d4d96d-f307-4a76-aaa8-b9fe1396d922"
      },
      "execution_count": null,
      "outputs": [
        {
          "output_type": "stream",
          "name": "stdout",
          "text": [
            "Requirement already satisfied: faiss-cpu in /usr/local/lib/python3.12/dist-packages (1.12.0)\n",
            "Requirement already satisfied: numpy<3.0,>=1.25.0 in /usr/local/lib/python3.12/dist-packages (from faiss-cpu) (2.0.2)\n",
            "Requirement already satisfied: packaging in /usr/local/lib/python3.12/dist-packages (from faiss-cpu) (25.0)\n"
          ]
        }
      ]
    },
    {
      "cell_type": "code",
      "execution_count": null,
      "metadata": {
        "id": "1AVCF1x8Gtk0"
      },
      "outputs": [],
      "source": [
        "import faiss\n",
        "import numpy as np\n",
        "from tqdm import tqdm\n",
        "import matplotlib.pyplot as plt\n",
        "from tensorflow.keras.datasets import cifar10\n",
        "from sklearn.metrics import accuracy_score, precision_score, recall_score, f1_score\n",
        "from sklearn.model_selection import train_test_split, StratifiedKFold"
      ]
    },
    {
      "cell_type": "markdown",
      "source": [
        "# **2. CIFAR-10 Dataset**\n",
        "- Dataset Loading and Preprocessing\n",
        "- Load CIFAR-10 dataset from Keras"
      ],
      "metadata": {
        "id": "H88zO3vttMpj"
      }
    },
    {
      "cell_type": "code",
      "source": [
        "# Dataset Loading and Preprocessing\n",
        "(x_train, y_train), (x_test, y_test) = cifar10.load_data()\n",
        "y_train = y_train.flatten()\n",
        "y_test = y_test.flatten()\n",
        "\n",
        "print(f\"Train: {x_train.shape}, Test: {x_test.shape}\")\n",
        "\n",
        "# Flatten and normalize\n",
        "x_train = x_train.reshape(x_train.shape[0], -1).astype('float32') / 255.0\n",
        "x_test = x_test.reshape(x_test.shape[0], -1).astype('float32') / 255.0\n",
        "\n",
        "print(\"Train (flattened):\", x_train.shape)\n",
        "print(\"Test  (flattened):\", x_test.shape)"
      ],
      "metadata": {
        "colab": {
          "base_uri": "https://localhost:8080/"
        },
        "id": "wKSjveMVtLyc",
        "outputId": "0fe1420e-6521-4e9c-df42-3819a4a860dc"
      },
      "execution_count": null,
      "outputs": [
        {
          "output_type": "stream",
          "name": "stdout",
          "text": [
            "Train: (50000, 32, 32, 3), Test: (10000, 32, 32, 3)\n",
            "Train (flattened): (50000, 3072)\n",
            "Test  (flattened): (10000, 3072)\n"
          ]
        }
      ]
    },
    {
      "cell_type": "markdown",
      "source": [
        "# **3. KNN class(based FAISS)**\n",
        "- Uses L2 distance to measure similarity between vectors\n",
        "- Uses FAISS to reduce computation time for KNN on CIFAR-10"
      ],
      "metadata": {
        "id": "XcTxwsr1xD40"
      }
    },
    {
      "cell_type": "code",
      "source": [
        "class KNearestNeighbor:\n",
        "    def __init__(self):\n",
        "        self.index = None\n",
        "        self.y_train = None\n",
        "\n",
        "    def train(self, X, y):\n",
        "        X = X.astype('float32')\n",
        "        self.index = faiss.IndexFlatL2(X.shape[1])  # L2 distance\n",
        "        self.index.add(X)\n",
        "        self.y_train = y\n",
        "\n",
        "    def predict(self, X, k=5):\n",
        "        X = X.astype('float32')\n",
        "        distances, indices = self.index.search(X, k)\n",
        "        y_pred = np.zeros(X.shape[0], dtype=int)\n",
        "        for i in tqdm(range(X.shape[0]), desc=\"Predicting\"):\n",
        "            nearest_labels = self.y_train[indices[i]]\n",
        "            y_pred[i] = np.bincount(nearest_labels).argmax()\n",
        "        return y_pred"
      ],
      "metadata": {
        "id": "ggEzScz5uxH-"
      },
      "execution_count": null,
      "outputs": []
    },
    {
      "cell_type": "markdown",
      "source": [
        "# **4. Train/Test Split Evaluation**"
      ],
      "metadata": {
        "id": "EwT14P6eu4rz"
      }
    },
    {
      "cell_type": "code",
      "source": [
        "knn = KNearestNeighbor()\n",
        "knn.train(x_train, y_train)\n",
        "y_pred_test = knn.predict(x_test, k=5)\n",
        "\n",
        "acc = accuracy_score(y_test, y_pred_test)\n",
        "prec = precision_score(y_test, y_pred_test, average='macro')\n",
        "rec = recall_score(y_test, y_pred_test, average='macro')\n",
        "f1 = f1_score(y_test, y_pred_test, average='macro')\n",
        "\n",
        "print(f\"Test Performance (k=5):\")\n",
        "print(f\"Accuracy: {acc:.4f}, Precision: {prec:.4f}, Recall: {rec:.4f}, F1: {f1:.4f}\")"
      ],
      "metadata": {
        "colab": {
          "base_uri": "https://localhost:8080/"
        },
        "id": "_vnIUihKu9UO",
        "outputId": "99a7b5e4-3a93-485f-f0aa-8e3dbb3e1ea8"
      },
      "execution_count": null,
      "outputs": [
        {
          "output_type": "stream",
          "name": "stderr",
          "text": [
            "Predicting: 100%|██████████| 10000/10000 [00:00<00:00, 192552.07it/s]"
          ]
        },
        {
          "output_type": "stream",
          "name": "stdout",
          "text": [
            "Test Performance (k=5):\n",
            "Accuracy: 0.3398, Precision: 0.4304, Recall: 0.3398, F1: 0.3260\n"
          ]
        },
        {
          "output_type": "stream",
          "name": "stderr",
          "text": [
            "\n"
          ]
        }
      ]
    },
    {
      "cell_type": "markdown",
      "source": [
        "# **5. Train/Validation/Test Split for Hyperparameter Tuning**\n",
        "- Split training data into training (80%) and validation (20%)"
      ],
      "metadata": {
        "id": "16ydM6q3vSO8"
      }
    },
    {
      "cell_type": "code",
      "source": [
        "X_tr, X_val, y_tr, y_val = train_test_split(x_train, y_train, test_size=0.2, random_state=42)\n",
        "k_values = [1, 3, 5, 7, 9, 11, 13]\n",
        "val_acc_list = []\n",
        "\n",
        "for k in k_values:\n",
        "    knn = KNearestNeighbor()\n",
        "    knn.train(X_tr, y_tr)\n",
        "    y_val_pred = knn.predict(X_val, k=k)\n",
        "    acc = accuracy_score(y_val, y_val_pred)\n",
        "    val_acc_list.append(acc)\n",
        "    print(f\"k={k} Validation Accuracy: {acc:.4f}\")\n",
        "\n",
        "best_k = k_values[np.argmax(val_acc_list)]\n",
        "print(f\"\\nBest k from Validation: {best_k}\")\n",
        "\n",
        "# Plot Validation Accuracy vs k\n",
        "plt.figure(figsize=(8,5))\n",
        "plt.plot(k_values, val_acc_list, marker='o')\n",
        "plt.title(\"Validation Accuracy vs k\")\n",
        "plt.xlabel(\"k\")\n",
        "plt.ylabel(\"Validation Accuracy\")\n",
        "plt.grid(True)\n",
        "plt.show()"
      ],
      "metadata": {
        "colab": {
          "base_uri": "https://localhost:8080/",
          "height": 789
        },
        "id": "DMfbS2ObvV-V",
        "outputId": "8419b435-e0ae-491d-c7a4-48d261370e2e"
      },
      "execution_count": null,
      "outputs": [
        {
          "output_type": "stream",
          "name": "stderr",
          "text": [
            "Predicting: 100%|██████████| 10000/10000 [00:00<00:00, 348069.24it/s]\n"
          ]
        },
        {
          "output_type": "stream",
          "name": "stdout",
          "text": [
            "k=1 Validation Accuracy: 0.3357\n"
          ]
        },
        {
          "output_type": "stream",
          "name": "stderr",
          "text": [
            "Predicting: 100%|██████████| 10000/10000 [00:00<00:00, 203212.40it/s]\n"
          ]
        },
        {
          "output_type": "stream",
          "name": "stdout",
          "text": [
            "k=3 Validation Accuracy: 0.3215\n"
          ]
        },
        {
          "output_type": "stream",
          "name": "stderr",
          "text": [
            "Predicting: 100%|██████████| 10000/10000 [00:00<00:00, 337157.28it/s]\n"
          ]
        },
        {
          "output_type": "stream",
          "name": "stdout",
          "text": [
            "k=5 Validation Accuracy: 0.3325\n"
          ]
        },
        {
          "output_type": "stream",
          "name": "stderr",
          "text": [
            "Predicting: 100%|██████████| 10000/10000 [00:00<00:00, 346456.31it/s]\n"
          ]
        },
        {
          "output_type": "stream",
          "name": "stdout",
          "text": [
            "k=7 Validation Accuracy: 0.3296\n"
          ]
        },
        {
          "output_type": "stream",
          "name": "stderr",
          "text": [
            "Predicting: 100%|██████████| 10000/10000 [00:00<00:00, 362960.94it/s]\n"
          ]
        },
        {
          "output_type": "stream",
          "name": "stdout",
          "text": [
            "k=9 Validation Accuracy: 0.3309\n"
          ]
        },
        {
          "output_type": "stream",
          "name": "stderr",
          "text": [
            "Predicting: 100%|██████████| 10000/10000 [00:00<00:00, 379341.58it/s]\n"
          ]
        },
        {
          "output_type": "stream",
          "name": "stdout",
          "text": [
            "k=11 Validation Accuracy: 0.3268\n"
          ]
        },
        {
          "output_type": "stream",
          "name": "stderr",
          "text": [
            "Predicting: 100%|██████████| 10000/10000 [00:00<00:00, 188326.07it/s]\n"
          ]
        },
        {
          "output_type": "stream",
          "name": "stdout",
          "text": [
            "k=13 Validation Accuracy: 0.3231\n",
            "\n",
            "Best k from Validation: 1\n"
          ]
        },
        {
          "output_type": "display_data",
          "data": {
            "text/plain": [
              "<Figure size 800x500 with 1 Axes>"
            ],
            "image/png": "[encoded data removed]"
          },
          "metadata": {}
        }
      ]
    },
    {
      "cell_type": "markdown",
      "source": [
        "# **6. 5-Fold Cross Validation**\n",
        "- Uses StratifiedKFold to maintain class proportions in each fold"
      ],
      "metadata": {
        "id": "bDBhAU8zvWZx"
      }
    },
    {
      "cell_type": "code",
      "source": [
        "kf = StratifiedKFold(n_splits=5, shuffle=True, random_state=42)\n",
        "mean_acc = []\n",
        "std_acc = []\n",
        "\n",
        "for k in k_values:\n",
        "    fold_acc = []\n",
        "    print(f\"\\nTesting k={k}\")\n",
        "    for fold, (train_idx, val_idx) in enumerate(kf.split(x_train, y_train)):\n",
        "        print(f\"Fold {fold+1}/5 ...\")\n",
        "        X_tr_fold, X_val_fold = x_train[train_idx], x_train[val_idx]\n",
        "        y_tr_fold, y_val_fold = y_train[train_idx], y_train[val_idx]\n",
        "\n",
        "        knn = KNearestNeighbor()\n",
        "        knn.train(X_tr_fold, y_tr_fold)\n",
        "        y_pred_fold = knn.predict(X_val_fold, k=k)\n",
        "\n",
        "        acc_fold = accuracy_score(y_val_fold, y_pred_fold)\n",
        "        fold_acc.append(acc_fold)\n",
        "\n",
        "    mean_acc.append(np.mean(fold_acc))\n",
        "    std_acc.append(np.std(fold_acc))\n",
        "    print(f\"Mean Accuracy: {np.mean(fold_acc):.4f}, Std: {np.std(fold_acc):.4f}\")\n",
        "\n",
        "# Plot 5-Fold CV Accuracy\n",
        "plt.figure(figsize=(8,5))\n",
        "plt.errorbar(k_values, mean_acc, yerr=std_acc, fmt='-o', capsize=5)\n",
        "plt.title(\"5-Fold Cross Validation Accuracy vs k\")\n",
        "plt.xlabel(\"k\")\n",
        "plt.ylabel(\"Accuracy\")\n",
        "plt.grid(True)\n",
        "plt.show()"
      ],
      "metadata": {
        "colab": {
          "base_uri": "https://localhost:8080/",
          "height": 1000
        },
        "id": "IxdUa-P5veNS",
        "outputId": "35c48cf3-ae1d-49c2-9de9-78f8e59e3b7c"
      },
      "execution_count": null,
      "outputs": [
        {
          "output_type": "stream",
          "name": "stdout",
          "text": [
            "\n",
            "Testing k=1\n",
            "Fold 1/5 ...\n"
          ]
        },
        {
          "output_type": "stream",
          "name": "stderr",
          "text": [
            "Predicting: 100%|██████████| 10000/10000 [00:00<00:00, 244268.15it/s]\n"
          ]
        },
        {
          "output_type": "stream",
          "name": "stdout",
          "text": [
            "Fold 2/5 ...\n"
          ]
        },
        {
          "output_type": "stream",
          "name": "stderr",
          "text": [
            "Predicting: 100%|██████████| 10000/10000 [00:00<00:00, 372393.39it/s]\n"
          ]
        },
        {
          "output_type": "stream",
          "name": "stdout",
          "text": [
            "Fold 3/5 ...\n"
          ]
        },
        {
          "output_type": "stream",
          "name": "stderr",
          "text": [
            "Predicting: 100%|██████████| 10000/10000 [00:00<00:00, 360971.13it/s]\n"
          ]
        },
        {
          "output_type": "stream",
          "name": "stdout",
          "text": [
            "Fold 4/5 ...\n"
          ]
        },
        {
          "output_type": "stream",
          "name": "stderr",
          "text": [
            "Predicting: 100%|██████████| 10000/10000 [00:00<00:00, 341394.46it/s]\n"
          ]
        },
        {
          "output_type": "stream",
          "name": "stdout",
          "text": [
            "Fold 5/5 ...\n"
          ]
        },
        {
          "output_type": "stream",
          "name": "stderr",
          "text": [
            "Predicting: 100%|██████████| 10000/10000 [00:00<00:00, 377338.31it/s]\n"
          ]
        },
        {
          "output_type": "stream",
          "name": "stdout",
          "text": [
            "Mean Accuracy: 0.3405, Std: 0.0018\n",
            "\n",
            "Testing k=3\n",
            "Fold 1/5 ...\n"
          ]
        },
        {
          "output_type": "stream",
          "name": "stderr",
          "text": [
            "Predicting: 100%|██████████| 10000/10000 [00:00<00:00, 370335.08it/s]\n"
          ]
        },
        {
          "output_type": "stream",
          "name": "stdout",
          "text": [
            "Fold 2/5 ...\n"
          ]
        },
        {
          "output_type": "stream",
          "name": "stderr",
          "text": [
            "Predicting: 100%|██████████| 10000/10000 [00:00<00:00, 372198.42it/s]\n"
          ]
        },
        {
          "output_type": "stream",
          "name": "stdout",
          "text": [
            "Fold 3/5 ...\n"
          ]
        },
        {
          "output_type": "stream",
          "name": "stderr",
          "text": [
            "Predicting: 100%|██████████| 10000/10000 [00:00<00:00, 360632.82it/s]\n"
          ]
        },
        {
          "output_type": "stream",
          "name": "stdout",
          "text": [
            "Fold 4/5 ...\n"
          ]
        },
        {
          "output_type": "stream",
          "name": "stderr",
          "text": [
            "Predicting: 100%|██████████| 10000/10000 [00:00<00:00, 367789.13it/s]\n"
          ]
        },
        {
          "output_type": "stream",
          "name": "stdout",
          "text": [
            "Fold 5/5 ...\n"
          ]
        },
        {
          "output_type": "stream",
          "name": "stderr",
          "text": [
            "Predicting: 100%|██████████| 10000/10000 [00:00<00:00, 333452.90it/s]\n"
          ]
        },
        {
          "output_type": "stream",
          "name": "stdout",
          "text": [
            "Mean Accuracy: 0.3236, Std: 0.0024\n",
            "\n",
            "Testing k=5\n",
            "Fold 1/5 ...\n"
          ]
        },
        {
          "output_type": "stream",
          "name": "stderr",
          "text": [
            "Predicting: 100%|██████████| 10000/10000 [00:00<00:00, 335008.31it/s]\n"
          ]
        },
        {
          "output_type": "stream",
          "name": "stdout",
          "text": [
            "Fold 2/5 ...\n"
          ]
        },
        {
          "output_type": "stream",
          "name": "stderr",
          "text": [
            "Predicting: 100%|██████████| 10000/10000 [00:00<00:00, 372529.00it/s]\n"
          ]
        },
        {
          "output_type": "stream",
          "name": "stdout",
          "text": [
            "Fold 3/5 ...\n"
          ]
        },
        {
          "output_type": "stream",
          "name": "stderr",
          "text": [
            "Predicting: 100%|██████████| 10000/10000 [00:00<00:00, 367370.35it/s]\n"
          ]
        },
        {
          "output_type": "stream",
          "name": "stdout",
          "text": [
            "Fold 4/5 ...\n"
          ]
        },
        {
          "output_type": "stream",
          "name": "stderr",
          "text": [
            "Predicting: 100%|██████████| 10000/10000 [00:00<00:00, 266058.38it/s]\n"
          ]
        },
        {
          "output_type": "stream",
          "name": "stdout",
          "text": [
            "Fold 5/5 ...\n"
          ]
        },
        {
          "output_type": "stream",
          "name": "stderr",
          "text": [
            "Predicting: 100%|██████████| 10000/10000 [00:00<00:00, 364966.46it/s]\n"
          ]
        },
        {
          "output_type": "stream",
          "name": "stdout",
          "text": [
            "Mean Accuracy: 0.3327, Std: 0.0023\n",
            "\n",
            "Testing k=7\n",
            "Fold 1/5 ...\n"
          ]
        },
        {
          "output_type": "stream",
          "name": "stderr",
          "text": [
            "Predicting: 100%|██████████| 10000/10000 [00:00<00:00, 367306.00it/s]\n"
          ]
        },
        {
          "output_type": "stream",
          "name": "stdout",
          "text": [
            "Fold 2/5 ...\n"
          ]
        },
        {
          "output_type": "stream",
          "name": "stderr",
          "text": [
            "Predicting: 100%|██████████| 10000/10000 [00:00<00:00, 366615.74it/s]\n"
          ]
        },
        {
          "output_type": "stream",
          "name": "stdout",
          "text": [
            "Fold 3/5 ...\n"
          ]
        },
        {
          "output_type": "stream",
          "name": "stderr",
          "text": [
            "Predicting: 100%|██████████| 10000/10000 [00:00<00:00, 247101.68it/s]\n"
          ]
        },
        {
          "output_type": "stream",
          "name": "stdout",
          "text": [
            "Fold 4/5 ...\n"
          ]
        },
        {
          "output_type": "stream",
          "name": "stderr",
          "text": [
            "Predicting: 100%|██████████| 10000/10000 [00:00<00:00, 365061.75it/s]\n"
          ]
        },
        {
          "output_type": "stream",
          "name": "stdout",
          "text": [
            "Fold 5/5 ...\n"
          ]
        },
        {
          "output_type": "stream",
          "name": "stderr",
          "text": [
            "Predicting: 100%|██████████| 10000/10000 [00:00<00:00, 220388.62it/s]\n"
          ]
        },
        {
          "output_type": "stream",
          "name": "stdout",
          "text": [
            "Mean Accuracy: 0.3315, Std: 0.0022\n",
            "\n",
            "Testing k=9\n",
            "Fold 1/5 ...\n"
          ]
        },
        {
          "output_type": "stream",
          "name": "stderr",
          "text": [
            "Predicting: 100%|██████████| 10000/10000 [00:00<00:00, 370380.86it/s]\n"
          ]
        },
        {
          "output_type": "stream",
          "name": "stdout",
          "text": [
            "Fold 2/5 ...\n"
          ]
        },
        {
          "output_type": "stream",
          "name": "stderr",
          "text": [
            "Predicting: 100%|██████████| 10000/10000 [00:00<00:00, 343882.79it/s]\n"
          ]
        },
        {
          "output_type": "stream",
          "name": "stdout",
          "text": [
            "Fold 3/5 ...\n"
          ]
        },
        {
          "output_type": "stream",
          "name": "stderr",
          "text": [
            "Predicting: 100%|██████████| 10000/10000 [00:00<00:00, 352184.32it/s]\n"
          ]
        },
        {
          "output_type": "stream",
          "name": "stdout",
          "text": [
            "Fold 4/5 ...\n"
          ]
        },
        {
          "output_type": "stream",
          "name": "stderr",
          "text": [
            "Predicting: 100%|██████████| 10000/10000 [00:00<00:00, 366001.50it/s]\n"
          ]
        },
        {
          "output_type": "stream",
          "name": "stdout",
          "text": [
            "Fold 5/5 ...\n"
          ]
        },
        {
          "output_type": "stream",
          "name": "stderr",
          "text": [
            "Predicting: 100%|██████████| 10000/10000 [00:00<00:00, 351702.96it/s]\n"
          ]
        },
        {
          "output_type": "stream",
          "name": "stdout",
          "text": [
            "Mean Accuracy: 0.3335, Std: 0.0020\n",
            "\n",
            "Testing k=11\n",
            "Fold 1/5 ...\n"
          ]
        },
        {
          "output_type": "stream",
          "name": "stderr",
          "text": [
            "Predicting: 100%|██████████| 10000/10000 [00:00<00:00, 184468.80it/s]\n"
          ]
        },
        {
          "output_type": "stream",
          "name": "stdout",
          "text": [
            "Fold 2/5 ...\n"
          ]
        },
        {
          "output_type": "stream",
          "name": "stderr",
          "text": [
            "Predicting: 100%|██████████| 10000/10000 [00:00<00:00, 252601.96it/s]\n"
          ]
        },
        {
          "output_type": "stream",
          "name": "stdout",
          "text": [
            "Fold 3/5 ...\n"
          ]
        },
        {
          "output_type": "stream",
          "name": "stderr",
          "text": [
            "Predicting: 100%|██████████| 10000/10000 [00:00<00:00, 328488.39it/s]\n"
          ]
        },
        {
          "output_type": "stream",
          "name": "stdout",
          "text": [
            "Fold 4/5 ...\n"
          ]
        },
        {
          "output_type": "stream",
          "name": "stderr",
          "text": [
            "Predicting: 100%|██████████| 10000/10000 [00:00<00:00, 356676.70it/s]\n"
          ]
        },
        {
          "output_type": "stream",
          "name": "stdout",
          "text": [
            "Fold 5/5 ...\n"
          ]
        },
        {
          "output_type": "stream",
          "name": "stderr",
          "text": [
            "Predicting: 100%|██████████| 10000/10000 [00:00<00:00, 343995.60it/s]\n"
          ]
        },
        {
          "output_type": "stream",
          "name": "stdout",
          "text": [
            "Mean Accuracy: 0.3301, Std: 0.0013\n",
            "\n",
            "Testing k=13\n",
            "Fold 1/5 ...\n"
          ]
        },
        {
          "output_type": "stream",
          "name": "stderr",
          "text": [
            "Predicting: 100%|██████████| 10000/10000 [00:00<00:00, 336041.66it/s]\n"
          ]
        },
        {
          "output_type": "stream",
          "name": "stdout",
          "text": [
            "Fold 2/5 ...\n"
          ]
        },
        {
          "output_type": "stream",
          "name": "stderr",
          "text": [
            "Predicting: 100%|██████████| 10000/10000 [00:00<00:00, 230037.90it/s]\n"
          ]
        },
        {
          "output_type": "stream",
          "name": "stdout",
          "text": [
            "Fold 3/5 ...\n"
          ]
        },
        {
          "output_type": "stream",
          "name": "stderr",
          "text": [
            "Predicting: 100%|██████████| 10000/10000 [00:00<00:00, 238567.56it/s]\n"
          ]
        },
        {
          "output_type": "stream",
          "name": "stdout",
          "text": [
            "Fold 4/5 ...\n"
          ]
        },
        {
          "output_type": "stream",
          "name": "stderr",
          "text": [
            "Predicting: 100%|██████████| 10000/10000 [00:00<00:00, 358892.43it/s]\n"
          ]
        },
        {
          "output_type": "stream",
          "name": "stdout",
          "text": [
            "Fold 5/5 ...\n"
          ]
        },
        {
          "output_type": "stream",
          "name": "stderr",
          "text": [
            "Predicting: 100%|██████████| 10000/10000 [00:00<00:00, 333983.95it/s]"
          ]
        },
        {
          "output_type": "stream",
          "name": "stdout",
          "text": [
            "Mean Accuracy: 0.3305, Std: 0.0027\n"
          ]
        },
        {
          "output_type": "stream",
          "name": "stderr",
          "text": [
            "\n"
          ]
        },
        {
          "output_type": "display_data",
          "data": {
            "text/plain": [
              "<Figure size 800x500 with 1 Axes>"
            ],
            "image/png": "[encoded data removed]"
          },
          "metadata": {}
        }
      ]
    },
    {
      "cell_type": "markdown",
      "source": [
        "# **7. Cross Validation Results Visualization**"
      ],
      "metadata": {
        "id": "fh_Uzviqwf8f"
      }
    },
    {
      "cell_type": "code",
      "source": [
        "knn = KNearestNeighbor()\n",
        "knn.train(x_train, y_train)\n",
        "y_test_pred = knn.predict(x_test, k=best_k)\n",
        "\n",
        "acc = accuracy_score(y_test, y_test_pred)\n",
        "prec = precision_score(y_test, y_test_pred, average='macro')\n",
        "rec = recall_score(y_test, y_test_pred, average='macro')\n",
        "f1 = f1_score(y_test, y_test_pred, average='macro')\n",
        "\n",
        "print(f\"Final Test Performance (best k={best_k}):\")\n",
        "print(f\"Accuracy: {acc:.4f}, Precision: {prec:.4f}, Recall: {rec:.4f}, F1: {f1:.4f}\")"
      ],
      "metadata": {
        "colab": {
          "base_uri": "https://localhost:8080/"
        },
        "id": "-z2X73C_wgX6",
        "outputId": "4b3b2bc2-c742-43f9-d851-0c2571a2bd98"
      },
      "execution_count": null,
      "outputs": [
        {
          "output_type": "stream",
          "name": "stderr",
          "text": [
            "Predicting: 100%|██████████| 10000/10000 [00:00<00:00, 331919.76it/s]"
          ]
        },
        {
          "output_type": "stream",
          "name": "stdout",
          "text": [
            "Final Test Performance (best k=1):\n",
            "Accuracy: 0.3539, Precision: 0.4112, Recall: 0.3539, F1: 0.3495\n"
          ]
        },
        {
          "output_type": "stream",
          "name": "stderr",
          "text": [
            "\n"
          ]
        }
      ]
    },
    {
      "cell_type": "code",
      "source": [],
      "metadata": {
        "id": "Ixm9eNaHy4NH"
      },
      "execution_count": null,
      "outputs": []
    }
  ]
}