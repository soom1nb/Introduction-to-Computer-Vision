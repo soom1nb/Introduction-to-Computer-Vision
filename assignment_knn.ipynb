{
  "nbformat": 4,
  "nbformat_minor": 0,
  "metadata": {
    "colab": {
      "provenance": [],
      "gpuType": "T4",
      "authorship_tag": "ABX9TyPtvoMTlH3KvD35yykWwMYL",
      "include_colab_link": true
    },
    "kernelspec": {
      "name": "python3",
      "display_name": "Python 3"
    },
    "language_info": {
      "name": "python"
    },
    "accelerator": "GPU"
  },
  "cells": [
    {
      "cell_type": "markdown",
      "metadata": {
        "id": "view-in-github",
        "colab_type": "text"
      },
      "source": [
        "<a href=\"https://colab.research.google.com/github/soom1nb/Introduction-to-Computer-Vision/blob/main/assignment_knn.ipynb\" target=\"_parent\"><img src=\"https://colab.research.google.com/assets/colab-badge.svg\" alt=\"Open In Colab\"/></a>"
      ]
    },
    {
      "cell_type": "markdown",
      "source": [
        "# **[Introduction to Computer Vision]**\n",
        "## K-Nearest Neighbors on CIFAR-10  \n",
        "### Student: Baik Soo Min  \n",
        "### Student ID: 2022112338  \n",
        "### Major: Data Science  "
      ],
      "metadata": {
        "id": "RgbHTxWctxi2"
      }
    },
    {
      "cell_type": "markdown",
      "source": [
        "# **0. Import**"
      ],
      "metadata": {
        "id": "6WFThxo1m96x"
      }
    },
    {
      "cell_type": "code",
      "source": [
        "import torch\n",
        "import numpy as np\n",
        "from tqdm import tqdm\n",
        "from sklearn.metrics import accuracy_score, precision_score, recall_score, f1_score\n",
        "from sklearn.model_selection import KFold\n",
        "from torchvision import datasets, transforms\n",
        "import matplotlib.pyplot as plt"
      ],
      "metadata": {
        "id": "A707b_lrnDxl"
      },
      "execution_count": 2,
      "outputs": []
    },
    {
      "cell_type": "markdown",
      "source": [
        "# **1. CIFAR-10 download & preprocessing**\n",
        "- Images are flattened from (32,32,3) -> (3072,)\n",
        "- Xtr, Ytr : train features and labels\n",
        "- Xte, Yte : test features and labels\n",
        "- Standardization"
      ],
      "metadata": {
        "id": "oYGHB_CsnHJe"
      }
    },
    {
      "cell_type": "code",
      "source": [
        "device = torch.device(\"cuda\" if torch.cuda.is_available() else \"cpu\")\n",
        "print(\"Using device:\", device)\n",
        "\n",
        "transform = transforms.Compose([transforms.ToTensor()])\n",
        "\n",
        "train_dataset = datasets.CIFAR10(root='./data', train=True, download=True, transform=transform)\n",
        "test_dataset = datasets.CIFAR10(root='./data', train=False, download=True, transform=transform)\n",
        "\n",
        "#flatten\n",
        "Xtr = torch.tensor(train_dataset.data.reshape(50000, -1) / 255.0, dtype=torch.float32).to(device)\n",
        "Ytr = torch.tensor(train_dataset.targets, dtype=torch.long).to(device)\n",
        "Xte = torch.tensor(test_dataset.data.reshape(10000, -1) / 255.0, dtype=torch.float32).to(device)\n",
        "Yte = torch.tensor(test_dataset.targets, dtype=torch.long).to(device)\n",
        "\n",
        "#standardization\n",
        "mean = Xtr.mean(dim=0, keepdim=True)\n",
        "std = Xtr.std(dim=0, keepdim=True) + 1e-8\n",
        "Xtr = (Xtr - mean) / std\n",
        "Xte = (Xte - mean) / std"
      ],
      "metadata": {
        "id": "5pQkTny8npgq",
        "colab": {
          "base_uri": "https://localhost:8080/"
        },
        "outputId": "f14ef10f-afc7-4b4c-d4bc-f993c4215bdb"
      },
      "execution_count": 3,
      "outputs": [
        {
          "output_type": "stream",
          "name": "stdout",
          "text": [
            "Using device: cuda\n"
          ]
        },
        {
          "output_type": "stream",
          "name": "stderr",
          "text": [
            "100%|██████████| 170M/170M [00:04<00:00, 40.2MB/s]\n"
          ]
        }
      ]
    },
    {
      "cell_type": "markdown",
      "source": [
        "# **2. Vectorized Nearest Neighbor Classifier**\n",
        "- Vectorization for computing more fast\n",
        "- train method:\n",
        "  - Store training data and labels\n",
        "- predict method:\n",
        "  - Compute L1 distance\n"
      ],
      "metadata": {
        "id": "cEM8mEyTnqOs"
      }
    },
    {
      "cell_type": "code",
      "source": [
        "class KNN:\n",
        "    def __init__(self):\n",
        "        pass\n",
        "\n",
        "    def train(self, X, y):\n",
        "        self.Xtr = X\n",
        "        self.Ytr = y\n",
        "\n",
        "    def predict(self, X, k=1, batch_size=500):\n",
        "        preds = []\n",
        "        with torch.no_grad():\n",
        "            for i in tqdm(range(0, X.shape[0], batch_size), desc=f\"KNN Predict (k={k})\"):\n",
        "                X_batch = X[i:i+batch_size]\n",
        "                dists = torch.cdist(X_batch, self.Xtr, p=1)  # L1 distance\n",
        "                _, idx = torch.topk(dists, k, largest=False)\n",
        "                neighbors = self.Ytr[idx]\n",
        "                preds_batch = torch.mode(neighbors, dim=1).values\n",
        "                preds.append(preds_batch)\n",
        "                del dists, idx, neighbors\n",
        "                torch.cuda.empty_cache()\n",
        "        return torch.cat(preds, dim=0)"
      ],
      "metadata": {
        "id": "ih4XEIKFoM82"
      },
      "execution_count": 4,
      "outputs": []
    },
    {
      "cell_type": "markdown",
      "source": [
        "# **3. Train/Test Split only**\n",
        "- Predict labels on the test data using a chosen k = 1\n",
        "- Metrics : accuracy, precision, recall, F1-score"
      ],
      "metadata": {
        "id": "efYnM1rxoMsn"
      }
    },
    {
      "cell_type": "code",
      "source": [
        "nn = KNN()\n",
        "nn.train(Xtr, Ytr)\n",
        "Yte_pred = nn.predict(Xte, k=1, batch_size=500)\n",
        "\n",
        "print(\"\\n=== Train/Test metrics (k=1) ===\")\n",
        "print(\"Accuracy:\", accuracy_score(Yte.cpu(), Yte_pred.cpu()))\n",
        "print(\"Precision:\", precision_score(Yte.cpu(), Yte_pred.cpu(), average='macro'))\n",
        "print(\"Recall:\", recall_score(Yte.cpu(), Yte_pred.cpu(), average='macro'))\n",
        "print(\"F1-score:\", f1_score(Yte.cpu(), Yte_pred.cpu(), average='macro'))"
      ],
      "metadata": {
        "id": "Z86jK6WJoNkz",
        "colab": {
          "base_uri": "https://localhost:8080/"
        },
        "outputId": "a703f741-9959-433a-de15-ac9eac2ebac7"
      },
      "execution_count": 5,
      "outputs": [
        {
          "output_type": "stream",
          "name": "stderr",
          "text": [
            "KNN Predict (k=1): 100%|██████████| 20/20 [00:01<00:00, 14.72it/s]\n"
          ]
        },
        {
          "output_type": "stream",
          "name": "stdout",
          "text": [
            "\n",
            "=== Train/Test metrics (k=1) ===\n",
            "Accuracy: 0.3889\n",
            "Precision: 0.43612170248017534\n",
            "Recall: 0.3889\n",
            "F1-score: 0.3892319211237392\n"
          ]
        }
      ]
    },
    {
      "cell_type": "markdown",
      "source": [
        "# **4. Validation split for hyperparameter tuning**\n",
        "- Split the original train set into\n",
        "  - Train subset : 49,000 samples\n",
        "  - Validation set : 1,000 samples\n",
        "- Use Validation set to select the best value of k based on accuracy\n",
        "\n",
        "[Code result]\n",
        "- best value of k : 10"
      ],
      "metadata": {
        "id": "HSFUZZL4oXGM"
      }
    },
    {
      "cell_type": "code",
      "source": [
        "Xval = Xtr[:1000]\n",
        "Yval = Ytr[:1000]\n",
        "Xtr_sub = Xtr[1000:]\n",
        "Ytr_sub = Ytr[1000:]\n",
        "\n",
        "k_values = [1, 3, 5, 10, 20]\n",
        "validation_accuracies = []\n",
        "\n",
        "for k in k_values:\n",
        "    nn = KNN()\n",
        "    nn.train(Xtr_sub, Ytr_sub)\n",
        "    Yval_pred = nn.predict(Xval, k=k, batch_size=200)\n",
        "    acc = accuracy_score(Yval.cpu(), Yval_pred.cpu())\n",
        "    validation_accuracies.append((k, acc))\n",
        "    print(f\"Validation accuracy (k={k}): {acc:.4f}\")\n",
        "\n",
        "best_k = max(validation_accuracies, key=lambda x: x[1])[0]\n",
        "print(\"Best k:\", best_k)\n",
        "\n",
        "# Test with best k\n",
        "nn.train(Xtr_sub, Ytr_sub)\n",
        "Yte_pred = nn.predict(Xte, k=best_k, batch_size=500)\n",
        "\n",
        "print(\"\\n=== Test metrics with best k ===\")\n",
        "print(\"Accuracy:\", accuracy_score(Yte.cpu(), Yte_pred.cpu()))\n",
        "print(\"Precision:\", precision_score(Yte.cpu(), Yte_pred.cpu(), average='macro'))\n",
        "print(\"Recall:\", recall_score(Yte.cpu(), Yte_pred.cpu(), average='macro'))\n",
        "print(\"F1-score:\", f1_score(Yte.cpu(), Yte_pred.cpu(), average='macro'))"
      ],
      "metadata": {
        "id": "BrhsBbQmoncP",
        "colab": {
          "base_uri": "https://localhost:8080/"
        },
        "outputId": "5723d7d6-98bb-4ddd-a207-9675d26bef11"
      },
      "execution_count": 6,
      "outputs": [
        {
          "output_type": "stream",
          "name": "stderr",
          "text": [
            "KNN Predict (k=1): 100%|██████████| 5/5 [00:00<00:00, 1930.01it/s]\n"
          ]
        },
        {
          "output_type": "stream",
          "name": "stdout",
          "text": [
            "Validation accuracy (k=1): 0.3760\n"
          ]
        },
        {
          "output_type": "stream",
          "name": "stderr",
          "text": [
            "KNN Predict (k=3): 100%|██████████| 5/5 [00:00<00:00,  9.17it/s]\n"
          ]
        },
        {
          "output_type": "stream",
          "name": "stdout",
          "text": [
            "Validation accuracy (k=3): 0.3620\n"
          ]
        },
        {
          "output_type": "stream",
          "name": "stderr",
          "text": [
            "KNN Predict (k=5): 100%|██████████| 5/5 [00:00<00:00, 2294.98it/s]\n"
          ]
        },
        {
          "output_type": "stream",
          "name": "stdout",
          "text": [
            "Validation accuracy (k=5): 0.3630\n"
          ]
        },
        {
          "output_type": "stream",
          "name": "stderr",
          "text": [
            "KNN Predict (k=10): 100%|██████████| 5/5 [00:00<00:00, 2271.37it/s]\n"
          ]
        },
        {
          "output_type": "stream",
          "name": "stdout",
          "text": [
            "Validation accuracy (k=10): 0.3820\n"
          ]
        },
        {
          "output_type": "stream",
          "name": "stderr",
          "text": [
            "KNN Predict (k=20): 100%|██████████| 5/5 [00:00<00:00, 1279.14it/s]\n"
          ]
        },
        {
          "output_type": "stream",
          "name": "stdout",
          "text": [
            "Validation accuracy (k=20): 0.3650\n",
            "Best k: 10\n"
          ]
        },
        {
          "output_type": "stream",
          "name": "stderr",
          "text": [
            "KNN Predict (k=10): 100%|██████████| 20/20 [00:00<00:00, 3094.97it/s]"
          ]
        },
        {
          "output_type": "stream",
          "name": "stdout",
          "text": [
            "\n",
            "=== Test metrics with best k ===\n"
          ]
        },
        {
          "output_type": "stream",
          "name": "stderr",
          "text": [
            "\n"
          ]
        },
        {
          "output_type": "stream",
          "name": "stdout",
          "text": [
            "Accuracy: 0.3856\n",
            "Precision: 0.4663613792338016\n",
            "Recall: 0.38560000000000005\n",
            "F1-score: 0.38030244909201766\n"
          ]
        }
      ]
    },
    {
      "cell_type": "markdown",
      "source": [
        "# **5. 5-Fold Cross-Validation**\n",
        "- Split the dataset into 5 folds\n",
        "- k_values = [1, 3, 5, 10, 20]\n",
        "- besk value of k : 10\n"
      ],
      "metadata": {
        "id": "8PwfKoN-on7K"
      }
    },
    {
      "cell_type": "code",
      "source": [
        "kf = KFold(n_splits=5, shuffle=True, random_state=42)\n",
        "cv_results = {k: [] for k in k_values}\n",
        "\n",
        "for k in k_values:\n",
        "    print(f\"\\nProcessing k={k} for 5-Fold CV\")\n",
        "    for fold, (train_idx, val_idx) in enumerate(kf.split(Xtr), 1):\n",
        "        X_train, X_val = Xtr[train_idx], Xtr[val_idx]\n",
        "        Y_train, Y_val = Ytr[train_idx], Ytr[val_idx]\n",
        "\n",
        "        nn = KNN()\n",
        "        nn.train(X_train, Y_train)\n",
        "        Y_val_pred = nn.predict(X_val, k=k, batch_size=200)\n",
        "        acc = accuracy_score(Y_val.cpu(), Y_val_pred.cpu())\n",
        "        cv_results[k].append(acc)\n",
        "        print(f\"  Fold {fold}: Accuracy = {acc:.4f}\")\n",
        "\n",
        "cv_mean = [np.mean(cv_results[k]) for k in k_values]\n",
        "cv_std = [np.std(cv_results[k]) for k in k_values]"
      ],
      "metadata": {
        "id": "U8GF_eVCosZP",
        "colab": {
          "base_uri": "https://localhost:8080/"
        },
        "outputId": "749af3b7-b334-4af1-a733-c5cff3150c40"
      },
      "execution_count": 7,
      "outputs": [
        {
          "output_type": "stream",
          "name": "stdout",
          "text": [
            "\n",
            "Processing k=1 for 5-Fold CV\n"
          ]
        },
        {
          "output_type": "stream",
          "name": "stderr",
          "text": [
            "KNN Predict (k=1): 100%|██████████| 50/50 [00:00<00:00, 60.48it/s] \n"
          ]
        },
        {
          "output_type": "stream",
          "name": "stdout",
          "text": [
            "  Fold 1: Accuracy = 0.3739\n"
          ]
        },
        {
          "output_type": "stream",
          "name": "stderr",
          "text": [
            "KNN Predict (k=1): 100%|██████████| 50/50 [00:00<00:00, 58.89it/s]\n"
          ]
        },
        {
          "output_type": "stream",
          "name": "stdout",
          "text": [
            "  Fold 2: Accuracy = 0.3739\n"
          ]
        },
        {
          "output_type": "stream",
          "name": "stderr",
          "text": [
            "KNN Predict (k=1): 100%|██████████| 50/50 [00:00<00:00, 58.35it/s]\n"
          ]
        },
        {
          "output_type": "stream",
          "name": "stdout",
          "text": [
            "  Fold 3: Accuracy = 0.3752\n"
          ]
        },
        {
          "output_type": "stream",
          "name": "stderr",
          "text": [
            "KNN Predict (k=1): 100%|██████████| 50/50 [00:00<00:00, 56.33it/s]\n"
          ]
        },
        {
          "output_type": "stream",
          "name": "stdout",
          "text": [
            "  Fold 4: Accuracy = 0.3716\n"
          ]
        },
        {
          "output_type": "stream",
          "name": "stderr",
          "text": [
            "KNN Predict (k=1): 100%|██████████| 50/50 [00:00<00:00, 53.82it/s]\n"
          ]
        },
        {
          "output_type": "stream",
          "name": "stdout",
          "text": [
            "  Fold 5: Accuracy = 0.3680\n",
            "\n",
            "Processing k=3 for 5-Fold CV\n"
          ]
        },
        {
          "output_type": "stream",
          "name": "stderr",
          "text": [
            "KNN Predict (k=3): 100%|██████████| 50/50 [00:00<00:00, 53.81it/s]\n"
          ]
        },
        {
          "output_type": "stream",
          "name": "stdout",
          "text": [
            "  Fold 1: Accuracy = 0.3544\n"
          ]
        },
        {
          "output_type": "stream",
          "name": "stderr",
          "text": [
            "KNN Predict (k=3): 100%|██████████| 50/50 [00:00<00:00, 54.74it/s]\n"
          ]
        },
        {
          "output_type": "stream",
          "name": "stdout",
          "text": [
            "  Fold 2: Accuracy = 0.3588\n"
          ]
        },
        {
          "output_type": "stream",
          "name": "stderr",
          "text": [
            "KNN Predict (k=3): 100%|██████████| 50/50 [00:00<00:00, 54.94it/s]\n"
          ]
        },
        {
          "output_type": "stream",
          "name": "stdout",
          "text": [
            "  Fold 3: Accuracy = 0.3469\n"
          ]
        },
        {
          "output_type": "stream",
          "name": "stderr",
          "text": [
            "KNN Predict (k=3): 100%|██████████| 50/50 [00:00<00:00, 54.62it/s]\n"
          ]
        },
        {
          "output_type": "stream",
          "name": "stdout",
          "text": [
            "  Fold 4: Accuracy = 0.3571\n"
          ]
        },
        {
          "output_type": "stream",
          "name": "stderr",
          "text": [
            "KNN Predict (k=3): 100%|██████████| 50/50 [00:00<00:00, 53.83it/s]\n"
          ]
        },
        {
          "output_type": "stream",
          "name": "stdout",
          "text": [
            "  Fold 5: Accuracy = 0.3505\n",
            "\n",
            "Processing k=5 for 5-Fold CV\n"
          ]
        },
        {
          "output_type": "stream",
          "name": "stderr",
          "text": [
            "KNN Predict (k=5): 100%|██████████| 50/50 [00:00<00:00, 53.90it/s]\n"
          ]
        },
        {
          "output_type": "stream",
          "name": "stdout",
          "text": [
            "  Fold 1: Accuracy = 0.3691\n"
          ]
        },
        {
          "output_type": "stream",
          "name": "stderr",
          "text": [
            "KNN Predict (k=5): 100%|██████████| 50/50 [00:00<00:00, 54.13it/s]\n"
          ]
        },
        {
          "output_type": "stream",
          "name": "stdout",
          "text": [
            "  Fold 2: Accuracy = 0.3749\n"
          ]
        },
        {
          "output_type": "stream",
          "name": "stderr",
          "text": [
            "KNN Predict (k=5): 100%|██████████| 50/50 [00:00<00:00, 54.02it/s]\n"
          ]
        },
        {
          "output_type": "stream",
          "name": "stdout",
          "text": [
            "  Fold 3: Accuracy = 0.3658\n"
          ]
        },
        {
          "output_type": "stream",
          "name": "stderr",
          "text": [
            "KNN Predict (k=5): 100%|██████████| 50/50 [00:00<00:00, 53.94it/s]\n"
          ]
        },
        {
          "output_type": "stream",
          "name": "stdout",
          "text": [
            "  Fold 4: Accuracy = 0.3699\n"
          ]
        },
        {
          "output_type": "stream",
          "name": "stderr",
          "text": [
            "KNN Predict (k=5): 100%|██████████| 50/50 [00:00<00:00, 54.40it/s]\n"
          ]
        },
        {
          "output_type": "stream",
          "name": "stdout",
          "text": [
            "  Fold 5: Accuracy = 0.3645\n",
            "\n",
            "Processing k=10 for 5-Fold CV\n"
          ]
        },
        {
          "output_type": "stream",
          "name": "stderr",
          "text": [
            "KNN Predict (k=10): 100%|██████████| 50/50 [00:00<00:00, 55.08it/s]\n"
          ]
        },
        {
          "output_type": "stream",
          "name": "stdout",
          "text": [
            "  Fold 1: Accuracy = 0.3673\n"
          ]
        },
        {
          "output_type": "stream",
          "name": "stderr",
          "text": [
            "KNN Predict (k=10): 100%|██████████| 50/50 [00:00<00:00, 54.47it/s]\n"
          ]
        },
        {
          "output_type": "stream",
          "name": "stdout",
          "text": [
            "  Fold 2: Accuracy = 0.3817\n"
          ]
        },
        {
          "output_type": "stream",
          "name": "stderr",
          "text": [
            "KNN Predict (k=10): 100%|██████████| 50/50 [00:00<00:00, 54.82it/s]\n"
          ]
        },
        {
          "output_type": "stream",
          "name": "stdout",
          "text": [
            "  Fold 3: Accuracy = 0.3696\n"
          ]
        },
        {
          "output_type": "stream",
          "name": "stderr",
          "text": [
            "KNN Predict (k=10): 100%|██████████| 50/50 [00:00<00:00, 54.80it/s]\n"
          ]
        },
        {
          "output_type": "stream",
          "name": "stdout",
          "text": [
            "  Fold 4: Accuracy = 0.3709\n"
          ]
        },
        {
          "output_type": "stream",
          "name": "stderr",
          "text": [
            "KNN Predict (k=10): 100%|██████████| 50/50 [00:00<00:00, 54.35it/s]\n"
          ]
        },
        {
          "output_type": "stream",
          "name": "stdout",
          "text": [
            "  Fold 5: Accuracy = 0.3718\n",
            "\n",
            "Processing k=20 for 5-Fold CV\n"
          ]
        },
        {
          "output_type": "stream",
          "name": "stderr",
          "text": [
            "KNN Predict (k=20): 100%|██████████| 50/50 [00:00<00:00, 54.35it/s]\n"
          ]
        },
        {
          "output_type": "stream",
          "name": "stdout",
          "text": [
            "  Fold 1: Accuracy = 0.3567\n"
          ]
        },
        {
          "output_type": "stream",
          "name": "stderr",
          "text": [
            "KNN Predict (k=20): 100%|██████████| 50/50 [00:00<00:00, 53.81it/s]\n"
          ]
        },
        {
          "output_type": "stream",
          "name": "stdout",
          "text": [
            "  Fold 2: Accuracy = 0.3675\n"
          ]
        },
        {
          "output_type": "stream",
          "name": "stderr",
          "text": [
            "KNN Predict (k=20): 100%|██████████| 50/50 [00:00<00:00, 54.00it/s]\n"
          ]
        },
        {
          "output_type": "stream",
          "name": "stdout",
          "text": [
            "  Fold 3: Accuracy = 0.3541\n"
          ]
        },
        {
          "output_type": "stream",
          "name": "stderr",
          "text": [
            "KNN Predict (k=20): 100%|██████████| 50/50 [00:00<00:00, 54.98it/s]\n"
          ]
        },
        {
          "output_type": "stream",
          "name": "stdout",
          "text": [
            "  Fold 4: Accuracy = 0.3641\n"
          ]
        },
        {
          "output_type": "stream",
          "name": "stderr",
          "text": [
            "KNN Predict (k=20): 100%|██████████| 50/50 [00:00<00:00, 54.85it/s]\n"
          ]
        },
        {
          "output_type": "stream",
          "name": "stdout",
          "text": [
            "  Fold 5: Accuracy = 0.3603\n"
          ]
        }
      ]
    },
    {
      "cell_type": "markdown",
      "source": [
        "# **6. Plot Cross-Validation performance**\n",
        "- Plot accuracy vs k with error bars"
      ],
      "metadata": {
        "id": "6tUk8Df0otPa"
      }
    },
    {
      "cell_type": "code",
      "source": [
        "plt.figure(figsize=(8,6))\n",
        "plt.errorbar(k_values, cv_mean, yerr=cv_std, fmt='-o', capsize=5, color='black', label='Mean ± Std')\n",
        "plt.xlabel('k (number of neighbors)')\n",
        "plt.ylabel('5-Fold CV Accuracy')\n",
        "plt.title('KNN_CIFAR-10 CV Accuracy vs k')\n",
        "plt.grid(True)\n",
        "plt.legend()\n",
        "plt.show()"
      ],
      "metadata": {
        "id": "2phxuydtpVhq",
        "colab": {
          "base_uri": "https://localhost:8080/",
          "height": 564
        },
        "outputId": "12e32f2c-11f4-4985-ce84-6c051c963c46"
      },
      "execution_count": 8,
      "outputs": [
        {
          "output_type": "display_data",
          "data": {
            "text/plain": [
              "<Figure size 800x600 with 1 Axes>"
            ],
            "image/png": "[encoded data removed]"
          },
          "metadata": {}
        }
      ]
    },
    {
      "cell_type": "code",
      "source": [
        "\n"
      ],
      "metadata": {
        "id": "BRTeeQAj73Ru"
      },
      "execution_count": 8,
      "outputs": []
    }
  ]
}